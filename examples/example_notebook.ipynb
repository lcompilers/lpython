{
 "cells": [
  {
   "cell_type": "code",
   "execution_count": 1,
   "id": "e87300c2-64ed-4636-8448-591f36faba29",
   "metadata": {},
   "outputs": [
    {
     "name": "stdout",
     "output_type": "stream",
     "text": [
      "Hello, LPython\n"
     ]
    }
   ],
   "source": [
    "print(\"Hello, LPython\")"
   ]
  },
  {
   "cell_type": "code",
   "execution_count": 2,
   "id": "dfcac851-7b49-4065-8c64-4a31658249f7",
   "metadata": {},
   "outputs": [],
   "source": [
    "def add(x: i32, y: i32) -> i32:\n",
    "    return x + y"
   ]
  },
  {
   "cell_type": "code",
   "execution_count": 3,
   "id": "09213386-84d5-4e7c-83ba-c3b027f765dd",
   "metadata": {},
   "outputs": [],
   "source": [
    "def sub(x: i32, y: i32) -> i32:\n",
    "    return x - y"
   ]
  },
  {
   "cell_type": "code",
   "execution_count": 4,
   "id": "a4b49fd3-bf17-4287-9d5e-60f14ebc9a0f",
   "metadata": {},
   "outputs": [
    {
     "data": {
      "text/plain": [
       "5"
      ]
     },
     "execution_count": 4,
     "metadata": {},
     "output_type": "execute_result"
    }
   ],
   "source": [
    "add(2, 3)"
   ]
  },
  {
   "cell_type": "code",
   "execution_count": 5,
   "id": "d6f4961f-7f0c-45a6-9bf8-e549e97098b0",
   "metadata": {},
   "outputs": [
    {
     "data": {
      "text/plain": [
       "-1"
      ]
     },
     "execution_count": 5,
     "metadata": {},
     "output_type": "execute_result"
    }
   ],
   "source": [
    "sub(2, 3)"
   ]
  },
  {
   "cell_type": "code",
   "execution_count": 6,
   "id": "398fd4be-d7cc-4912-8aa1-880aa58b37ab",
   "metadata": {},
   "outputs": [],
   "source": [
    "@dataclass\n",
    "class MyClass:\n",
    "    x: i32\n",
    "    y: f64\n",
    "    z: str"
   ]
  },
  {
   "cell_type": "code",
   "execution_count": 7,
   "id": "628f0b7d-09a6-49de-a0e6-2f6c664f2ba2",
   "metadata": {},
   "outputs": [
    {
     "name": "stdout",
     "output_type": "stream",
     "text": [
      "12 2.45000000000000000e+01 LPython\n"
     ]
    }
   ],
   "source": [
    "x: MyClass = MyClass(12, 24.5, \"LPython\")\n",
    "print(x)"
   ]
  }
 ],
 "metadata": {
  "kernelspec": {
   "display_name": "LPython",
   "language": "python",
   "name": "lpython"
  },
  "language_info": {
   "file_extension": ".f90",
   "mimetype": "text/x-python",
   "name": "python",
   "version": "2018"
  }
 },
 "nbformat": 4,
 "nbformat_minor": 5
}
