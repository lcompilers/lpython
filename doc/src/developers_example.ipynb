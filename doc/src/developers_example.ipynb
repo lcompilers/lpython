{
 "cells": [
  {
   "cell_type": "code",
   "execution_count": null,
   "id": "c86338ac-53ca-4115-8c5a-8bf8a5c7113e",
   "metadata": {},
   "outputs": [],
   "source": [
    "%%showast\n",
    "def add(x: i32, y: i32) -> i32:\n",
    "    return x + y"
   ]
  },
  {
   "cell_type": "code",
   "execution_count": null,
   "id": "23834b08-2f3f-45e7-a1ce-21a9fd4e5117",
   "metadata": {},
   "outputs": [],
   "source": [
    "%%showasr\n",
    "def add(x: i32, y: i32) -> i32:\n",
    "    return x + y"
   ]
  },
  {
   "cell_type": "code",
   "execution_count": null,
   "id": "ec7426b4-e2e5-416c-bcae-9bb9c8926c9b",
   "metadata": {},
   "outputs": [],
   "source": [
    "%%showllvm\n",
    "def sub(x: i32, y: i32) -> i32:\n",
    "    return add(x, -y)"
   ]
  },
  {
   "cell_type": "code",
   "execution_count": null,
   "id": "716c56ef-8210-4daf-aa23-96b385801014",
   "metadata": {},
   "outputs": [],
   "source": [
    "%%showasm\n",
    "def mul(x: i32, y: i32) -> i32:\n",
    "    return x * y"
   ]
  }
 ],
 "metadata": {
  "kernelspec": {
   "display_name": "LPython",
   "language": "python",
   "name": "lpython"
  },
  "language_info": {
   "file_extension": ".f90",
   "mimetype": "text/x-python",
   "name": "python",
   "version": "2018"
  }
 },
 "nbformat": 4,
 "nbformat_minor": 5
}
